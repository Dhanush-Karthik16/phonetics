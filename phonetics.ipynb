{
  "nbformat": 4,
  "nbformat_minor": 0,
  "metadata": {
    "colab": {
      "provenance": [],
      "authorship_tag": "ABX9TyPGkNJq0j6Lyh+ybAs4kxL3",
      "include_colab_link": true
    },
    "kernelspec": {
      "name": "python3",
      "display_name": "Python 3"
    },
    "language_info": {
      "name": "python"
    }
  },
  "cells": [
    {
      "cell_type": "markdown",
      "metadata": {
        "id": "view-in-github",
        "colab_type": "text"
      },
      "source": [
        "<a href=\"https://colab.research.google.com/github/Dhanush-Karthik16/phonetics/blob/main/phonetics.ipynb\" target=\"_parent\"><img src=\"https://colab.research.google.com/assets/colab-badge.svg\" alt=\"Open In Colab\"/></a>"
      ]
    },
    {
      "cell_type": "code",
      "execution_count": 1,
      "metadata": {
        "colab": {
          "base_uri": "https://localhost:8080/"
        },
        "id": "UIsse8Z7R_n4",
        "outputId": "539502ee-9bc7-4f14-8abb-6e697a5297fa"
      },
      "outputs": [
        {
          "output_type": "stream",
          "name": "stdout",
          "text": [
            "Collecting epitran\n",
            "  Downloading epitran-1.26.0-py2.py3-none-any.whl.metadata (34 kB)\n",
            "Collecting gtts\n",
            "  Downloading gTTS-2.5.4-py3-none-any.whl.metadata (4.1 kB)\n",
            "Collecting playsound\n",
            "  Downloading playsound-1.3.0.tar.gz (7.7 kB)\n",
            "  Preparing metadata (setup.py) ... \u001b[?25l\u001b[?25hdone\n",
            "Requirement already satisfied: setuptools in /usr/local/lib/python3.11/dist-packages (from epitran) (75.1.0)\n",
            "Requirement already satisfied: regex in /usr/local/lib/python3.11/dist-packages (from epitran) (2024.11.6)\n",
            "Collecting panphon>=0.20 (from epitran)\n",
            "  Downloading panphon-0.21.2-py2.py3-none-any.whl.metadata (15 kB)\n",
            "Requirement already satisfied: marisa-trie in /usr/local/lib/python3.11/dist-packages (from epitran) (1.2.1)\n",
            "Requirement already satisfied: requests in /usr/local/lib/python3.11/dist-packages (from epitran) (2.32.3)\n",
            "Collecting jamo (from epitran)\n",
            "  Downloading jamo-0.4.1-py3-none-any.whl.metadata (2.3 kB)\n",
            "Requirement already satisfied: click<8.2,>=7.1 in /usr/local/lib/python3.11/dist-packages (from gtts) (8.1.8)\n",
            "Collecting unicodecsv (from panphon>=0.20->epitran)\n",
            "  Downloading unicodecsv-0.14.1.tar.gz (10 kB)\n",
            "  Preparing metadata (setup.py) ... \u001b[?25l\u001b[?25hdone\n",
            "Requirement already satisfied: PyYAML in /usr/local/lib/python3.11/dist-packages (from panphon>=0.20->epitran) (6.0.2)\n",
            "Requirement already satisfied: numpy>=1.20.2 in /usr/local/lib/python3.11/dist-packages (from panphon>=0.20->epitran) (1.26.4)\n",
            "Requirement already satisfied: editdistance in /usr/local/lib/python3.11/dist-packages (from panphon>=0.20->epitran) (0.8.1)\n",
            "Collecting munkres (from panphon>=0.20->epitran)\n",
            "  Downloading munkres-1.1.4-py2.py3-none-any.whl.metadata (980 bytes)\n",
            "Requirement already satisfied: charset-normalizer<4,>=2 in /usr/local/lib/python3.11/dist-packages (from requests->epitran) (3.4.1)\n",
            "Requirement already satisfied: idna<4,>=2.5 in /usr/local/lib/python3.11/dist-packages (from requests->epitran) (3.10)\n",
            "Requirement already satisfied: urllib3<3,>=1.21.1 in /usr/local/lib/python3.11/dist-packages (from requests->epitran) (2.3.0)\n",
            "Requirement already satisfied: certifi>=2017.4.17 in /usr/local/lib/python3.11/dist-packages (from requests->epitran) (2025.1.31)\n",
            "Downloading epitran-1.26.0-py2.py3-none-any.whl (188 kB)\n",
            "\u001b[2K   \u001b[90m━━━━━━━━━━━━━━━━━━━━━━━━━━━━━━━━━━━━━━━━\u001b[0m \u001b[32m188.5/188.5 kB\u001b[0m \u001b[31m10.2 MB/s\u001b[0m eta \u001b[36m0:00:00\u001b[0m\n",
            "\u001b[?25hDownloading gTTS-2.5.4-py3-none-any.whl (29 kB)\n",
            "Downloading panphon-0.21.2-py2.py3-none-any.whl (75 kB)\n",
            "\u001b[2K   \u001b[90m━━━━━━━━━━━━━━━━━━━━━━━━━━━━━━━━━━━━━━━━\u001b[0m \u001b[32m75.4/75.4 kB\u001b[0m \u001b[31m5.9 MB/s\u001b[0m eta \u001b[36m0:00:00\u001b[0m\n",
            "\u001b[?25hDownloading jamo-0.4.1-py3-none-any.whl (9.5 kB)\n",
            "Downloading munkres-1.1.4-py2.py3-none-any.whl (7.0 kB)\n",
            "Building wheels for collected packages: playsound, unicodecsv\n",
            "  Building wheel for playsound (setup.py) ... \u001b[?25l\u001b[?25hdone\n",
            "  Created wheel for playsound: filename=playsound-1.3.0-py3-none-any.whl size=7020 sha256=016aff834a74019139fbf920496cf5c9659be3ebdec82d6bda4542b54dbd5620\n",
            "  Stored in directory: /root/.cache/pip/wheels/50/98/42/62753a9e1fb97579a0ce2f84f7db4c21c09d03bb2091e6cef4\n",
            "  Building wheel for unicodecsv (setup.py) ... \u001b[?25l\u001b[?25hdone\n",
            "  Created wheel for unicodecsv: filename=unicodecsv-0.14.1-py3-none-any.whl size=10744 sha256=57f14da8c1ff2b194d374f12dd69070647987b8896d24058796ea4f854b6f99a\n",
            "  Stored in directory: /root/.cache/pip/wheels/ec/03/6f/d2e0162d94c0d451556fa43dd4d5531457245c34a36b41ef4a\n",
            "Successfully built playsound unicodecsv\n",
            "Installing collected packages: unicodecsv, playsound, munkres, jamo, panphon, gtts, epitran\n",
            "Successfully installed epitran-1.26.0 gtts-2.5.4 jamo-0.4.1 munkres-1.1.4 panphon-0.21.2 playsound-1.3.0 unicodecsv-0.14.1\n"
          ]
        }
      ],
      "source": [
        "!pip install epitran gtts playsound\n"
      ]
    },
    {
      "cell_type": "code",
      "source": [
        "pip install epitran gtts playsound tkinter\n"
      ],
      "metadata": {
        "colab": {
          "base_uri": "https://localhost:8080/"
        },
        "id": "6oylefHUSJrm",
        "outputId": "24b918b8-2564-4872-dc96-1fab4beddd13"
      },
      "execution_count": 3,
      "outputs": [
        {
          "output_type": "stream",
          "name": "stdout",
          "text": [
            "Requirement already satisfied: epitran in /usr/local/lib/python3.11/dist-packages (1.26.0)\n",
            "Requirement already satisfied: gtts in /usr/local/lib/python3.11/dist-packages (2.5.4)\n",
            "Requirement already satisfied: playsound in /usr/local/lib/python3.11/dist-packages (1.3.0)\n",
            "\u001b[31mERROR: Could not find a version that satisfies the requirement tkinter (from versions: none)\u001b[0m\u001b[31m\n",
            "\u001b[0m\u001b[31mERROR: No matching distribution found for tkinter\u001b[0m\u001b[31m\n",
            "\u001b[0m"
          ]
        }
      ]
    },
    {
      "cell_type": "code",
      "source": [
        "!pip install phonemizer gtts pydub\n",
        "!apt-get install espeak-ng -y"
      ],
      "metadata": {
        "colab": {
          "base_uri": "https://localhost:8080/"
        },
        "id": "Fvh_N9P_SOTp",
        "outputId": "97837ee9-08ef-4785-bb9f-1e133dbc4fd5"
      },
      "execution_count": 4,
      "outputs": [
        {
          "output_type": "stream",
          "name": "stdout",
          "text": [
            "Collecting phonemizer\n",
            "  Downloading phonemizer-3.3.0-py3-none-any.whl.metadata (48 kB)\n",
            "\u001b[?25l     \u001b[90m━━━━━━━━━━━━━━━━━━━━━━━━━━━━━━━━━━━━━━━━\u001b[0m \u001b[32m0.0/48.2 kB\u001b[0m \u001b[31m?\u001b[0m eta \u001b[36m-:--:--\u001b[0m\r\u001b[2K     \u001b[90m━━━━━━━━━━━━━━━━━━━━━━━━━━━━━━━━━━━━━━━━\u001b[0m \u001b[32m48.2/48.2 kB\u001b[0m \u001b[31m2.7 MB/s\u001b[0m eta \u001b[36m0:00:00\u001b[0m\n",
            "\u001b[?25hRequirement already satisfied: gtts in /usr/local/lib/python3.11/dist-packages (2.5.4)\n",
            "Collecting pydub\n",
            "  Downloading pydub-0.25.1-py2.py3-none-any.whl.metadata (1.4 kB)\n",
            "Requirement already satisfied: joblib in /usr/local/lib/python3.11/dist-packages (from phonemizer) (1.4.2)\n",
            "Collecting segments (from phonemizer)\n",
            "  Downloading segments-2.3.0-py2.py3-none-any.whl.metadata (3.5 kB)\n",
            "Requirement already satisfied: attrs>=18.1 in /usr/local/lib/python3.11/dist-packages (from phonemizer) (25.1.0)\n",
            "Collecting dlinfo (from phonemizer)\n",
            "  Downloading dlinfo-2.0.0-py3-none-any.whl.metadata (1.1 kB)\n",
            "Requirement already satisfied: typing-extensions in /usr/local/lib/python3.11/dist-packages (from phonemizer) (4.12.2)\n",
            "Requirement already satisfied: requests<3,>=2.27 in /usr/local/lib/python3.11/dist-packages (from gtts) (2.32.3)\n",
            "Requirement already satisfied: click<8.2,>=7.1 in /usr/local/lib/python3.11/dist-packages (from gtts) (8.1.8)\n",
            "Requirement already satisfied: charset-normalizer<4,>=2 in /usr/local/lib/python3.11/dist-packages (from requests<3,>=2.27->gtts) (3.4.1)\n",
            "Requirement already satisfied: idna<4,>=2.5 in /usr/local/lib/python3.11/dist-packages (from requests<3,>=2.27->gtts) (3.10)\n",
            "Requirement already satisfied: urllib3<3,>=1.21.1 in /usr/local/lib/python3.11/dist-packages (from requests<3,>=2.27->gtts) (2.3.0)\n",
            "Requirement already satisfied: certifi>=2017.4.17 in /usr/local/lib/python3.11/dist-packages (from requests<3,>=2.27->gtts) (2025.1.31)\n",
            "Requirement already satisfied: regex in /usr/local/lib/python3.11/dist-packages (from segments->phonemizer) (2024.11.6)\n",
            "Collecting csvw>=1.5.6 (from segments->phonemizer)\n",
            "  Downloading csvw-3.5.1-py2.py3-none-any.whl.metadata (10 kB)\n",
            "Collecting isodate (from csvw>=1.5.6->segments->phonemizer)\n",
            "  Downloading isodate-0.7.2-py3-none-any.whl.metadata (11 kB)\n",
            "Requirement already satisfied: python-dateutil in /usr/local/lib/python3.11/dist-packages (from csvw>=1.5.6->segments->phonemizer) (2.8.2)\n",
            "Collecting rfc3986<2 (from csvw>=1.5.6->segments->phonemizer)\n",
            "  Downloading rfc3986-1.5.0-py2.py3-none-any.whl.metadata (6.5 kB)\n",
            "Requirement already satisfied: uritemplate>=3.0.0 in /usr/local/lib/python3.11/dist-packages (from csvw>=1.5.6->segments->phonemizer) (4.1.1)\n",
            "Requirement already satisfied: babel in /usr/local/lib/python3.11/dist-packages (from csvw>=1.5.6->segments->phonemizer) (2.17.0)\n",
            "Collecting language-tags (from csvw>=1.5.6->segments->phonemizer)\n",
            "  Downloading language_tags-1.2.0-py3-none-any.whl.metadata (2.1 kB)\n",
            "Collecting rdflib (from csvw>=1.5.6->segments->phonemizer)\n",
            "  Downloading rdflib-7.1.3-py3-none-any.whl.metadata (11 kB)\n",
            "Collecting colorama (from csvw>=1.5.6->segments->phonemizer)\n",
            "  Downloading colorama-0.4.6-py2.py3-none-any.whl.metadata (17 kB)\n",
            "Requirement already satisfied: jsonschema in /usr/local/lib/python3.11/dist-packages (from csvw>=1.5.6->segments->phonemizer) (4.23.0)\n",
            "Requirement already satisfied: jsonschema-specifications>=2023.03.6 in /usr/local/lib/python3.11/dist-packages (from jsonschema->csvw>=1.5.6->segments->phonemizer) (2024.10.1)\n",
            "Requirement already satisfied: referencing>=0.28.4 in /usr/local/lib/python3.11/dist-packages (from jsonschema->csvw>=1.5.6->segments->phonemizer) (0.36.2)\n",
            "Requirement already satisfied: rpds-py>=0.7.1 in /usr/local/lib/python3.11/dist-packages (from jsonschema->csvw>=1.5.6->segments->phonemizer) (0.23.1)\n",
            "Requirement already satisfied: six>=1.5 in /usr/local/lib/python3.11/dist-packages (from python-dateutil->csvw>=1.5.6->segments->phonemizer) (1.17.0)\n",
            "Requirement already satisfied: pyparsing<4,>=2.1.0 in /usr/local/lib/python3.11/dist-packages (from rdflib->csvw>=1.5.6->segments->phonemizer) (3.2.1)\n",
            "Downloading phonemizer-3.3.0-py3-none-any.whl (103 kB)\n",
            "\u001b[2K   \u001b[90m━━━━━━━━━━━━━━━━━━━━━━━━━━━━━━━━━━━━━━━━\u001b[0m \u001b[32m103.8/103.8 kB\u001b[0m \u001b[31m6.1 MB/s\u001b[0m eta \u001b[36m0:00:00\u001b[0m\n",
            "\u001b[?25hDownloading pydub-0.25.1-py2.py3-none-any.whl (32 kB)\n",
            "Downloading dlinfo-2.0.0-py3-none-any.whl (3.7 kB)\n",
            "Downloading segments-2.3.0-py2.py3-none-any.whl (15 kB)\n",
            "Downloading csvw-3.5.1-py2.py3-none-any.whl (59 kB)\n",
            "\u001b[2K   \u001b[90m━━━━━━━━━━━━━━━━━━━━━━━━━━━━━━━━━━━━━━━━\u001b[0m \u001b[32m59.9/59.9 kB\u001b[0m \u001b[31m4.5 MB/s\u001b[0m eta \u001b[36m0:00:00\u001b[0m\n",
            "\u001b[?25hDownloading rfc3986-1.5.0-py2.py3-none-any.whl (31 kB)\n",
            "Downloading colorama-0.4.6-py2.py3-none-any.whl (25 kB)\n",
            "Downloading isodate-0.7.2-py3-none-any.whl (22 kB)\n",
            "Downloading language_tags-1.2.0-py3-none-any.whl (213 kB)\n",
            "\u001b[2K   \u001b[90m━━━━━━━━━━━━━━━━━━━━━━━━━━━━━━━━━━━━━━━━\u001b[0m \u001b[32m213.4/213.4 kB\u001b[0m \u001b[31m14.0 MB/s\u001b[0m eta \u001b[36m0:00:00\u001b[0m\n",
            "\u001b[?25hDownloading rdflib-7.1.3-py3-none-any.whl (564 kB)\n",
            "\u001b[2K   \u001b[90m━━━━━━━━━━━━━━━━━━━━━━━━━━━━━━━━━━━━━━━━\u001b[0m \u001b[32m564.9/564.9 kB\u001b[0m \u001b[31m32.1 MB/s\u001b[0m eta \u001b[36m0:00:00\u001b[0m\n",
            "\u001b[?25hInstalling collected packages: rfc3986, pydub, language-tags, rdflib, isodate, dlinfo, colorama, csvw, segments, phonemizer\n",
            "Successfully installed colorama-0.4.6 csvw-3.5.1 dlinfo-2.0.0 isodate-0.7.2 language-tags-1.2.0 phonemizer-3.3.0 pydub-0.25.1 rdflib-7.1.3 rfc3986-1.5.0 segments-2.3.0\n",
            "Reading package lists... Done\n",
            "Building dependency tree... Done\n",
            "Reading state information... Done\n",
            "The following additional packages will be installed:\n",
            "  espeak-ng-data libespeak-ng1 libpcaudio0 libsonic0\n",
            "The following NEW packages will be installed:\n",
            "  espeak-ng espeak-ng-data libespeak-ng1 libpcaudio0 libsonic0\n",
            "0 upgraded, 5 newly installed, 0 to remove and 29 not upgraded.\n",
            "Need to get 4,526 kB of archives.\n",
            "After this operation, 11.9 MB of additional disk space will be used.\n",
            "Get:1 http://archive.ubuntu.com/ubuntu jammy/main amd64 libpcaudio0 amd64 1.1-6build2 [8,956 B]\n",
            "Get:2 http://archive.ubuntu.com/ubuntu jammy/main amd64 libsonic0 amd64 0.2.0-11build1 [10.3 kB]\n",
            "Get:3 http://archive.ubuntu.com/ubuntu jammy-updates/main amd64 espeak-ng-data amd64 1.50+dfsg-10ubuntu0.1 [3,956 kB]\n",
            "Get:4 http://archive.ubuntu.com/ubuntu jammy-updates/main amd64 libespeak-ng1 amd64 1.50+dfsg-10ubuntu0.1 [207 kB]\n",
            "Get:5 http://archive.ubuntu.com/ubuntu jammy-updates/universe amd64 espeak-ng amd64 1.50+dfsg-10ubuntu0.1 [343 kB]\n",
            "Fetched 4,526 kB in 1s (5,228 kB/s)\n",
            "Selecting previously unselected package libpcaudio0:amd64.\n",
            "(Reading database ... 124947 files and directories currently installed.)\n",
            "Preparing to unpack .../libpcaudio0_1.1-6build2_amd64.deb ...\n",
            "Unpacking libpcaudio0:amd64 (1.1-6build2) ...\n",
            "Selecting previously unselected package libsonic0:amd64.\n",
            "Preparing to unpack .../libsonic0_0.2.0-11build1_amd64.deb ...\n",
            "Unpacking libsonic0:amd64 (0.2.0-11build1) ...\n",
            "Selecting previously unselected package espeak-ng-data:amd64.\n",
            "Preparing to unpack .../espeak-ng-data_1.50+dfsg-10ubuntu0.1_amd64.deb ...\n",
            "Unpacking espeak-ng-data:amd64 (1.50+dfsg-10ubuntu0.1) ...\n",
            "Selecting previously unselected package libespeak-ng1:amd64.\n",
            "Preparing to unpack .../libespeak-ng1_1.50+dfsg-10ubuntu0.1_amd64.deb ...\n",
            "Unpacking libespeak-ng1:amd64 (1.50+dfsg-10ubuntu0.1) ...\n",
            "Selecting previously unselected package espeak-ng.\n",
            "Preparing to unpack .../espeak-ng_1.50+dfsg-10ubuntu0.1_amd64.deb ...\n",
            "Unpacking espeak-ng (1.50+dfsg-10ubuntu0.1) ...\n",
            "Setting up libpcaudio0:amd64 (1.1-6build2) ...\n",
            "Setting up libsonic0:amd64 (0.2.0-11build1) ...\n",
            "Setting up espeak-ng-data:amd64 (1.50+dfsg-10ubuntu0.1) ...\n",
            "Setting up libespeak-ng1:amd64 (1.50+dfsg-10ubuntu0.1) ...\n",
            "Setting up espeak-ng (1.50+dfsg-10ubuntu0.1) ...\n",
            "Processing triggers for man-db (2.10.2-1) ...\n",
            "Processing triggers for libc-bin (2.35-0ubuntu3.8) ...\n",
            "/sbin/ldconfig.real: /usr/local/lib/libur_adapter_level_zero.so.0 is not a symbolic link\n",
            "\n",
            "/sbin/ldconfig.real: /usr/local/lib/libtbbmalloc.so.2 is not a symbolic link\n",
            "\n",
            "/sbin/ldconfig.real: /usr/local/lib/libhwloc.so.15 is not a symbolic link\n",
            "\n",
            "/sbin/ldconfig.real: /usr/local/lib/libtcm.so.1 is not a symbolic link\n",
            "\n",
            "/sbin/ldconfig.real: /usr/local/lib/libtbb.so.12 is not a symbolic link\n",
            "\n",
            "/sbin/ldconfig.real: /usr/local/lib/libtbbbind_2_5.so.3 is not a symbolic link\n",
            "\n",
            "/sbin/ldconfig.real: /usr/local/lib/libur_adapter_opencl.so.0 is not a symbolic link\n",
            "\n",
            "/sbin/ldconfig.real: /usr/local/lib/libtbbmalloc_proxy.so.2 is not a symbolic link\n",
            "\n",
            "/sbin/ldconfig.real: /usr/local/lib/libur_loader.so.0 is not a symbolic link\n",
            "\n",
            "/sbin/ldconfig.real: /usr/local/lib/libumf.so.0 is not a symbolic link\n",
            "\n",
            "/sbin/ldconfig.real: /usr/local/lib/libtbbbind_2_0.so.3 is not a symbolic link\n",
            "\n",
            "/sbin/ldconfig.real: /usr/local/lib/libtbbbind.so.3 is not a symbolic link\n",
            "\n",
            "/sbin/ldconfig.real: /usr/local/lib/libtcm_debug.so.1 is not a symbolic link\n",
            "\n"
          ]
        }
      ]
    },
    {
      "cell_type": "code",
      "source": [
        " from phonemizer import phonemize\n",
        "from gtts import gTTS\n",
        "import os\n",
        "from IPython.display import Audio, display\n",
        "def transcribe(text, lang_code):\n",
        "    \"\"\"Transcribes the input text into IPA using phonemizer.\"\"\"\n",
        "    try:\n",
        "        ipa_transcription = phonemize(text, language=lang_code, backend=\"espeak\")\n",
        "        return ipa_transcription\n",
        "    except Exception as e:\n",
        "        return f\"Error: {str(e)}\"\n",
        "def play_audio(text, lang_code):\n",
        "    \"\"\"Plays the audio pronunciation of the input text.\"\"\"\n",
        "    try:\n",
        "        tts = gTTS(text, lang=lang_code[:2])  # Extract first two letters for TTS\n",
        "        audio_file = \"output.mp3\"\n",
        "        tts.save(audio_file)\n",
        "        display(Audio(audio_file, autoplay=True))  # Plays audio in Colab\n",
        "    except Exception as e:\n",
        "        print(f\"Error: {str(e)}\")\n",
        "# Get user input\n",
        "text = input(\"Enter text to transcribe: \")\n",
        "lang_code = input(\"Enter language code (e.g., 'en', 'fr', 'es'): \")\n",
        "\n",
        "# Play pronunciation\n",
        "play_audio(text, lang_code)\n"
      ],
      "metadata": {
        "colab": {
          "base_uri": "https://localhost:8080/",
          "height": 110
        },
        "id": "XQ86XT6xTbm7",
        "outputId": "d556e432-46a5-4f65-dc5e-c182b53161ea"
      },
      "execution_count": 17,
      "outputs": [
        {
          "name": "stdout",
          "output_type": "stream",
          "text": [
            "Enter text to transcribe: DHANUSH KARTHIK\n",
            "Enter language code (e.g., 'en', 'fr', 'es'): en\n"
          ]
        },
        {
          "output_type": "display_data",
          "data": {
            "text/plain": [
              "<IPython.lib.display.Audio object>"
            ],
            "text/html": [
              "\n",
              "                <audio  controls=\"controls\" autoplay=\"autoplay\">\n",
              "                    <source src=\"data:audio/mpeg;base64,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\" type=\"audio/mpeg\" />\n",
              "                    Your browser does not support the audio element.\n",
              "                </audio>\n",
              "              "
            ]
          },
          "metadata": {}
        }
      ]
    },
    {
      "cell_type": "code",
      "source": [
        "!apt-get install espeak-ng -y\n"
      ],
      "metadata": {
        "colab": {
          "base_uri": "https://localhost:8080/"
        },
        "id": "6NIyR7YSTlv_",
        "outputId": "b96e6516-387a-497e-a516-33177a118722"
      },
      "execution_count": 8,
      "outputs": [
        {
          "output_type": "stream",
          "name": "stdout",
          "text": [
            "Reading package lists... Done\n",
            "Building dependency tree... Done\n",
            "Reading state information... Done\n",
            "espeak-ng is already the newest version (1.50+dfsg-10ubuntu0.1).\n",
            "0 upgraded, 0 newly installed, 0 to remove and 29 not upgraded.\n"
          ]
        }
      ]
    },
    {
      "cell_type": "code",
      "source": [
        "import subprocess\n",
        "def transcribe_with_espeak(text, lang_code=\"en-us\"):\n",
        "    \"\"\"Transcribes text to IPA using espeak-ng.\"\"\"\n",
        "    try:\n",
        "        result = subprocess.run([\"espeak-ng\", \"-v\", lang_code, \"--ipa\", text], capture_output=True, text=True)\n",
        "        ipa_transcription = result.stdout.strip()\n",
        "        return ipa_transcription\n",
        "    except Exception as e:\n",
        "        return f\"Error: {str(e)}\"\n",
        "\n",
        "# Get user input\n",
        "text = input(\"Enter text to transcribe: \")\n",
        "lang_code = input(\"Enter language code (e.g., 'en-us', 'fr', 'es'): \")\n",
        "\n",
        "# Perform transcription\n",
        "ipa_result = transcribe_with_espeak(text, lang_code)\n",
        "print(f\"IPA Transcription: {ipa_result}\")\n"
      ],
      "metadata": {
        "colab": {
          "base_uri": "https://localhost:8080/"
        },
        "id": "uHOCzykiUAtw",
        "outputId": "aa8d99e2-daa9-4917-fff9-68cc6c654503"
      },
      "execution_count": 11,
      "outputs": [
        {
          "output_type": "stream",
          "name": "stdout",
          "text": [
            "Enter text to transcribe: dhanush\n",
            "Enter language code (e.g., 'en-us', 'fr', 'es'): en-us\n",
            "IPA Transcription: dˈænʌʃ\n"
          ]
        }
      ]
    },
    {
      "cell_type": "code",
      "source": [
        "!pip install jiwer phonemizer\n",
        "from jiwer import wer, cer\n",
        "from phonemizer import phonemize\n",
        "def evaluate_transcription(predicted, reference):\n",
        "    word_error = wer(reference, predicted)\n",
        "    char_error = cer(reference, predicted)\n",
        "    print(f\"Word Error Rate (WER): {word_error:.2%}\")\n",
        "    print(f\"Character Error Rate (CER): {char_error:.2%}\")\n",
        "# Example Evaluation\n",
        "reference_ipa = \"ɡˈoʊkəlnˌæθ\"  # Correct IPA for \"gokulnath\"\n",
        "predicted_ipa = \"ɡˈoʊkəlnˌæθ\"    # Example system output\n",
        "\n",
        "evaluate_transcription(predicted_ipa, reference_ipa)\n"
      ],
      "metadata": {
        "colab": {
          "base_uri": "https://localhost:8080/"
        },
        "id": "o7MgpQoMUc3c",
        "outputId": "c8e0898c-40e5-4215-c5e8-b4eb79280001"
      },
      "execution_count": 12,
      "outputs": [
        {
          "output_type": "stream",
          "name": "stdout",
          "text": [
            "Collecting jiwer\n",
            "  Downloading jiwer-3.1.0-py3-none-any.whl.metadata (2.6 kB)\n",
            "Requirement already satisfied: phonemizer in /usr/local/lib/python3.11/dist-packages (3.3.0)\n",
            "Requirement already satisfied: click>=8.1.8 in /usr/local/lib/python3.11/dist-packages (from jiwer) (8.1.8)\n",
            "Collecting rapidfuzz>=3.9.7 (from jiwer)\n",
            "  Downloading rapidfuzz-3.12.2-cp311-cp311-manylinux_2_17_x86_64.manylinux2014_x86_64.whl.metadata (12 kB)\n",
            "Requirement already satisfied: joblib in /usr/local/lib/python3.11/dist-packages (from phonemizer) (1.4.2)\n",
            "Requirement already satisfied: segments in /usr/local/lib/python3.11/dist-packages (from phonemizer) (2.3.0)\n",
            "Requirement already satisfied: attrs>=18.1 in /usr/local/lib/python3.11/dist-packages (from phonemizer) (25.1.0)\n",
            "Requirement already satisfied: dlinfo in /usr/local/lib/python3.11/dist-packages (from phonemizer) (2.0.0)\n",
            "Requirement already satisfied: typing-extensions in /usr/local/lib/python3.11/dist-packages (from phonemizer) (4.12.2)\n",
            "Requirement already satisfied: regex in /usr/local/lib/python3.11/dist-packages (from segments->phonemizer) (2024.11.6)\n",
            "Requirement already satisfied: csvw>=1.5.6 in /usr/local/lib/python3.11/dist-packages (from segments->phonemizer) (3.5.1)\n",
            "Requirement already satisfied: isodate in /usr/local/lib/python3.11/dist-packages (from csvw>=1.5.6->segments->phonemizer) (0.7.2)\n",
            "Requirement already satisfied: python-dateutil in /usr/local/lib/python3.11/dist-packages (from csvw>=1.5.6->segments->phonemizer) (2.8.2)\n",
            "Requirement already satisfied: rfc3986<2 in /usr/local/lib/python3.11/dist-packages (from csvw>=1.5.6->segments->phonemizer) (1.5.0)\n",
            "Requirement already satisfied: uritemplate>=3.0.0 in /usr/local/lib/python3.11/dist-packages (from csvw>=1.5.6->segments->phonemizer) (4.1.1)\n",
            "Requirement already satisfied: babel in /usr/local/lib/python3.11/dist-packages (from csvw>=1.5.6->segments->phonemizer) (2.17.0)\n",
            "Requirement already satisfied: requests in /usr/local/lib/python3.11/dist-packages (from csvw>=1.5.6->segments->phonemizer) (2.32.3)\n",
            "Requirement already satisfied: language-tags in /usr/local/lib/python3.11/dist-packages (from csvw>=1.5.6->segments->phonemizer) (1.2.0)\n",
            "Requirement already satisfied: rdflib in /usr/local/lib/python3.11/dist-packages (from csvw>=1.5.6->segments->phonemizer) (7.1.3)\n",
            "Requirement already satisfied: colorama in /usr/local/lib/python3.11/dist-packages (from csvw>=1.5.6->segments->phonemizer) (0.4.6)\n",
            "Requirement already satisfied: jsonschema in /usr/local/lib/python3.11/dist-packages (from csvw>=1.5.6->segments->phonemizer) (4.23.0)\n",
            "Requirement already satisfied: jsonschema-specifications>=2023.03.6 in /usr/local/lib/python3.11/dist-packages (from jsonschema->csvw>=1.5.6->segments->phonemizer) (2024.10.1)\n",
            "Requirement already satisfied: referencing>=0.28.4 in /usr/local/lib/python3.11/dist-packages (from jsonschema->csvw>=1.5.6->segments->phonemizer) (0.36.2)\n",
            "Requirement already satisfied: rpds-py>=0.7.1 in /usr/local/lib/python3.11/dist-packages (from jsonschema->csvw>=1.5.6->segments->phonemizer) (0.23.1)\n",
            "Requirement already satisfied: six>=1.5 in /usr/local/lib/python3.11/dist-packages (from python-dateutil->csvw>=1.5.6->segments->phonemizer) (1.17.0)\n",
            "Requirement already satisfied: pyparsing<4,>=2.1.0 in /usr/local/lib/python3.11/dist-packages (from rdflib->csvw>=1.5.6->segments->phonemizer) (3.2.1)\n",
            "Requirement already satisfied: charset-normalizer<4,>=2 in /usr/local/lib/python3.11/dist-packages (from requests->csvw>=1.5.6->segments->phonemizer) (3.4.1)\n",
            "Requirement already satisfied: idna<4,>=2.5 in /usr/local/lib/python3.11/dist-packages (from requests->csvw>=1.5.6->segments->phonemizer) (3.10)\n",
            "Requirement already satisfied: urllib3<3,>=1.21.1 in /usr/local/lib/python3.11/dist-packages (from requests->csvw>=1.5.6->segments->phonemizer) (2.3.0)\n",
            "Requirement already satisfied: certifi>=2017.4.17 in /usr/local/lib/python3.11/dist-packages (from requests->csvw>=1.5.6->segments->phonemizer) (2025.1.31)\n",
            "Downloading jiwer-3.1.0-py3-none-any.whl (22 kB)\n",
            "Downloading rapidfuzz-3.12.2-cp311-cp311-manylinux_2_17_x86_64.manylinux2014_x86_64.whl (3.1 MB)\n",
            "\u001b[2K   \u001b[90m━━━━━━━━━━━━━━━━━━━━━━━━━━━━━━━━━━━━━━━━\u001b[0m \u001b[32m3.1/3.1 MB\u001b[0m \u001b[31m26.1 MB/s\u001b[0m eta \u001b[36m0:00:00\u001b[0m\n",
            "\u001b[?25hInstalling collected packages: rapidfuzz, jiwer\n",
            "Successfully installed jiwer-3.1.0 rapidfuzz-3.12.2\n",
            "Word Error Rate (WER): 0.00%\n",
            "Character Error Rate (CER): 0.00%\n"
          ]
        }
      ]
    },
    {
      "cell_type": "code",
      "source": [
        "!pip install jiwer phonemizer matplotlib seaborn\n",
        "!apt-get install espeak-ng -y"
      ],
      "metadata": {
        "colab": {
          "base_uri": "https://localhost:8080/"
        },
        "id": "sfVEo_DRUp0Z",
        "outputId": "38ea4759-950b-4be3-d572-c9e937b00369"
      },
      "execution_count": 13,
      "outputs": [
        {
          "output_type": "stream",
          "name": "stdout",
          "text": [
            "Requirement already satisfied: jiwer in /usr/local/lib/python3.11/dist-packages (3.1.0)\n",
            "Requirement already satisfied: phonemizer in /usr/local/lib/python3.11/dist-packages (3.3.0)\n",
            "Requirement already satisfied: matplotlib in /usr/local/lib/python3.11/dist-packages (3.10.0)\n",
            "Requirement already satisfied: seaborn in /usr/local/lib/python3.11/dist-packages (0.13.2)\n",
            "Requirement already satisfied: click>=8.1.8 in /usr/local/lib/python3.11/dist-packages (from jiwer) (8.1.8)\n",
            "Requirement already satisfied: rapidfuzz>=3.9.7 in /usr/local/lib/python3.11/dist-packages (from jiwer) (3.12.2)\n",
            "Requirement already satisfied: joblib in /usr/local/lib/python3.11/dist-packages (from phonemizer) (1.4.2)\n",
            "Requirement already satisfied: segments in /usr/local/lib/python3.11/dist-packages (from phonemizer) (2.3.0)\n",
            "Requirement already satisfied: attrs>=18.1 in /usr/local/lib/python3.11/dist-packages (from phonemizer) (25.1.0)\n",
            "Requirement already satisfied: dlinfo in /usr/local/lib/python3.11/dist-packages (from phonemizer) (2.0.0)\n",
            "Requirement already satisfied: typing-extensions in /usr/local/lib/python3.11/dist-packages (from phonemizer) (4.12.2)\n",
            "Requirement already satisfied: contourpy>=1.0.1 in /usr/local/lib/python3.11/dist-packages (from matplotlib) (1.3.1)\n",
            "Requirement already satisfied: cycler>=0.10 in /usr/local/lib/python3.11/dist-packages (from matplotlib) (0.12.1)\n",
            "Requirement already satisfied: fonttools>=4.22.0 in /usr/local/lib/python3.11/dist-packages (from matplotlib) (4.56.0)\n",
            "Requirement already satisfied: kiwisolver>=1.3.1 in /usr/local/lib/python3.11/dist-packages (from matplotlib) (1.4.8)\n",
            "Requirement already satisfied: numpy>=1.23 in /usr/local/lib/python3.11/dist-packages (from matplotlib) (1.26.4)\n",
            "Requirement already satisfied: packaging>=20.0 in /usr/local/lib/python3.11/dist-packages (from matplotlib) (24.2)\n",
            "Requirement already satisfied: pillow>=8 in /usr/local/lib/python3.11/dist-packages (from matplotlib) (11.1.0)\n",
            "Requirement already satisfied: pyparsing>=2.3.1 in /usr/local/lib/python3.11/dist-packages (from matplotlib) (3.2.1)\n",
            "Requirement already satisfied: python-dateutil>=2.7 in /usr/local/lib/python3.11/dist-packages (from matplotlib) (2.8.2)\n",
            "Requirement already satisfied: pandas>=1.2 in /usr/local/lib/python3.11/dist-packages (from seaborn) (2.2.2)\n",
            "Requirement already satisfied: pytz>=2020.1 in /usr/local/lib/python3.11/dist-packages (from pandas>=1.2->seaborn) (2025.1)\n",
            "Requirement already satisfied: tzdata>=2022.7 in /usr/local/lib/python3.11/dist-packages (from pandas>=1.2->seaborn) (2025.1)\n",
            "Requirement already satisfied: six>=1.5 in /usr/local/lib/python3.11/dist-packages (from python-dateutil>=2.7->matplotlib) (1.17.0)\n",
            "Requirement already satisfied: regex in /usr/local/lib/python3.11/dist-packages (from segments->phonemizer) (2024.11.6)\n",
            "Requirement already satisfied: csvw>=1.5.6 in /usr/local/lib/python3.11/dist-packages (from segments->phonemizer) (3.5.1)\n",
            "Requirement already satisfied: isodate in /usr/local/lib/python3.11/dist-packages (from csvw>=1.5.6->segments->phonemizer) (0.7.2)\n",
            "Requirement already satisfied: rfc3986<2 in /usr/local/lib/python3.11/dist-packages (from csvw>=1.5.6->segments->phonemizer) (1.5.0)\n",
            "Requirement already satisfied: uritemplate>=3.0.0 in /usr/local/lib/python3.11/dist-packages (from csvw>=1.5.6->segments->phonemizer) (4.1.1)\n",
            "Requirement already satisfied: babel in /usr/local/lib/python3.11/dist-packages (from csvw>=1.5.6->segments->phonemizer) (2.17.0)\n",
            "Requirement already satisfied: requests in /usr/local/lib/python3.11/dist-packages (from csvw>=1.5.6->segments->phonemizer) (2.32.3)\n",
            "Requirement already satisfied: language-tags in /usr/local/lib/python3.11/dist-packages (from csvw>=1.5.6->segments->phonemizer) (1.2.0)\n",
            "Requirement already satisfied: rdflib in /usr/local/lib/python3.11/dist-packages (from csvw>=1.5.6->segments->phonemizer) (7.1.3)\n",
            "Requirement already satisfied: colorama in /usr/local/lib/python3.11/dist-packages (from csvw>=1.5.6->segments->phonemizer) (0.4.6)\n",
            "Requirement already satisfied: jsonschema in /usr/local/lib/python3.11/dist-packages (from csvw>=1.5.6->segments->phonemizer) (4.23.0)\n",
            "Requirement already satisfied: jsonschema-specifications>=2023.03.6 in /usr/local/lib/python3.11/dist-packages (from jsonschema->csvw>=1.5.6->segments->phonemizer) (2024.10.1)\n",
            "Requirement already satisfied: referencing>=0.28.4 in /usr/local/lib/python3.11/dist-packages (from jsonschema->csvw>=1.5.6->segments->phonemizer) (0.36.2)\n",
            "Requirement already satisfied: rpds-py>=0.7.1 in /usr/local/lib/python3.11/dist-packages (from jsonschema->csvw>=1.5.6->segments->phonemizer) (0.23.1)\n",
            "Requirement already satisfied: charset-normalizer<4,>=2 in /usr/local/lib/python3.11/dist-packages (from requests->csvw>=1.5.6->segments->phonemizer) (3.4.1)\n",
            "Requirement already satisfied: idna<4,>=2.5 in /usr/local/lib/python3.11/dist-packages (from requests->csvw>=1.5.6->segments->phonemizer) (3.10)\n",
            "Requirement already satisfied: urllib3<3,>=1.21.1 in /usr/local/lib/python3.11/dist-packages (from requests->csvw>=1.5.6->segments->phonemizer) (2.3.0)\n",
            "Requirement already satisfied: certifi>=2017.4.17 in /usr/local/lib/python3.11/dist-packages (from requests->csvw>=1.5.6->segments->phonemizer) (2025.1.31)\n",
            "Reading package lists... Done\n",
            "Building dependency tree... Done\n",
            "Reading state information... Done\n",
            "espeak-ng is already the newest version (1.50+dfsg-10ubuntu0.1).\n",
            "0 upgraded, 0 newly installed, 0 to remove and 29 not upgraded.\n"
          ]
        }
      ]
    },
    {
      "cell_type": "code",
      "source": [
        "import subprocess\n",
        "import matplotlib.pyplot as plt\n",
        "import seaborn as sns\n",
        "from jiwer import wer, cer\n",
        "\n",
        "def transcribe_with_espeak(text, lang_code=\"en-us\"):\n",
        "    \"\"\"Transcribes text to IPA using espeak-ng.\"\"\"\n",
        "    try:\n",
        "        result = subprocess.run([\"espeak-ng\", \"-v\", lang_code, \"--ipa\", text], capture_output=True, text=True)\n",
        "        ipa_transcription = result.stdout.strip()\n",
        "        return ipa_transcription\n",
        "    except Exception as e:\n",
        "        return f\"Error: {str(e)}\"\n",
        "\n",
        "def evaluate_transcription(predicted, reference):\n",
        "    \"\"\"Computes Word Error Rate (WER) and Character Error Rate (CER).\"\"\"\n",
        "    word_error = wer(reference, predicted)\n",
        "    char_error = cer(reference, predicted)\n",
        "\n",
        "    print(f\"Word Error Rate (WER): {word_error:.2%}\")\n",
        "    print(f\"Character Error Rate (CER): {char_error:.2%}\")\n",
        "\n",
        "    return word_error, char_error\n",
        "\n",
        "def plot_metrics(wer_score, cer_score):\n",
        "    \"\"\"Plots WER and CER using a bar chart.\"\"\"\n",
        "    metrics = [\"WER\", \"CER\"]\n",
        "    values = [wer_score * 100, cer_score * 100]  # Convert to percentage\n",
        "\n",
        "    plt.figure(figsize=(6, 4))\n",
        "    sns.barplot(x=metrics, y=values, palette=\"coolwarm\")\n",
        "    plt.ylim(0, 100)\n",
        "    plt.ylabel(\"Error Rate (%)\")\n",
        "    plt.title(\"Transcription Accuracy Metrics\")\n",
        "    plt.show()\n",
        "\n",
        "# Example Input\n",
        "text = \"Hello World\"\n",
        "reference_ipa = \"həˈloʊ wɝld\"  # Correct IPA for \"Hello World\"\n",
        "\n",
        "# Generate IPA transcription\n",
        "predicted_ipa = transcribe_with_espeak(text, \"en-us\")\n",
        "print(f\"Predicted IPA: {predicted_ipa}\")\n",
        "\n",
        "# Evaluate transcription\n",
        "wer_score, cer_score = evaluate_transcription(predicted_ipa, reference_ipa)\n",
        "\n",
        "# Plot accuracy metrics\n",
        "plot_metrics(wer_score, cer_score)\n"
      ],
      "metadata": {
        "colab": {
          "base_uri": "https://localhost:8080/",
          "height": 530
        },
        "id": "to0PRCh7U30z",
        "outputId": "f5601019-3d45-4eb1-fb42-04ce6dbc74e1"
      },
      "execution_count": 14,
      "outputs": [
        {
          "output_type": "stream",
          "name": "stdout",
          "text": [
            "Predicted IPA: həlˈoʊ wˈɜːld\n",
            "Word Error Rate (WER): 100.00%\n",
            "Character Error Rate (CER): 45.45%\n"
          ]
        },
        {
          "output_type": "stream",
          "name": "stderr",
          "text": [
            "<ipython-input-14-eb8181e1e73e>:31: FutureWarning: \n",
            "\n",
            "Passing `palette` without assigning `hue` is deprecated and will be removed in v0.14.0. Assign the `x` variable to `hue` and set `legend=False` for the same effect.\n",
            "\n",
            "  sns.barplot(x=metrics, y=values, palette=\"coolwarm\")\n"
          ]
        },
        {
          "output_type": "display_data",
          "data": {
            "text/plain": [
              "<Figure size 600x400 with 1 Axes>"
            ],
            "image/png": "[encoded data removed]"
          },
          "metadata": {}
        }
      ]
    },
    {
      "cell_type": "code",
      "source": [
        "!pip install gradio jiwer phonemizer matplotlib seaborn\n",
        "!apt-get install espeak-ng -y\n"
      ],
      "metadata": {
        "colab": {
          "base_uri": "https://localhost:8080/"
        },
        "id": "dsPUdlfEU6a_",
        "outputId": "7db55b8f-2f39-428d-d31d-193469d0f2e7"
      },
      "execution_count": 15,
      "outputs": [
        {
          "output_type": "stream",
          "name": "stdout",
          "text": [
            "Collecting gradio\n",
            "  Downloading gradio-5.20.1-py3-none-any.whl.metadata (16 kB)\n",
            "Requirement already satisfied: jiwer in /usr/local/lib/python3.11/dist-packages (3.1.0)\n",
            "Requirement already satisfied: phonemizer in /usr/local/lib/python3.11/dist-packages (3.3.0)\n",
            "Requirement already satisfied: matplotlib in /usr/local/lib/python3.11/dist-packages (3.10.0)\n",
            "Requirement already satisfied: seaborn in /usr/local/lib/python3.11/dist-packages (0.13.2)\n",
            "Collecting aiofiles<24.0,>=22.0 (from gradio)\n",
            "  Downloading aiofiles-23.2.1-py3-none-any.whl.metadata (9.7 kB)\n",
            "Requirement already satisfied: anyio<5.0,>=3.0 in /usr/local/lib/python3.11/dist-packages (from gradio) (3.7.1)\n",
            "Collecting fastapi<1.0,>=0.115.2 (from gradio)\n",
            "  Downloading fastapi-0.115.11-py3-none-any.whl.metadata (27 kB)\n",
            "Collecting ffmpy (from gradio)\n",
            "  Downloading ffmpy-0.5.0-py3-none-any.whl.metadata (3.0 kB)\n",
            "Collecting gradio-client==1.7.2 (from gradio)\n",
            "  Downloading gradio_client-1.7.2-py3-none-any.whl.metadata (7.1 kB)\n",
            "Collecting groovy~=0.1 (from gradio)\n",
            "  Downloading groovy-0.1.2-py3-none-any.whl.metadata (6.1 kB)\n",
            "Requirement already satisfied: httpx>=0.24.1 in /usr/local/lib/python3.11/dist-packages (from gradio) (0.28.1)\n",
            "Requirement already satisfied: huggingface-hub>=0.28.1 in /usr/local/lib/python3.11/dist-packages (from gradio) (0.28.1)\n",
            "Requirement already satisfied: jinja2<4.0 in /usr/local/lib/python3.11/dist-packages (from gradio) (3.1.6)\n",
            "Collecting markupsafe~=2.0 (from gradio)\n",
            "  Downloading MarkupSafe-2.1.5-cp311-cp311-manylinux_2_17_x86_64.manylinux2014_x86_64.whl.metadata (3.0 kB)\n",
            "Requirement already satisfied: numpy<3.0,>=1.0 in /usr/local/lib/python3.11/dist-packages (from gradio) (1.26.4)\n",
            "Requirement already satisfied: orjson~=3.0 in /usr/local/lib/python3.11/dist-packages (from gradio) (3.10.15)\n",
            "Requirement already satisfied: packaging in /usr/local/lib/python3.11/dist-packages (from gradio) (24.2)\n",
            "Requirement already satisfied: pandas<3.0,>=1.0 in /usr/local/lib/python3.11/dist-packages (from gradio) (2.2.2)\n",
            "Requirement already satisfied: pillow<12.0,>=8.0 in /usr/local/lib/python3.11/dist-packages (from gradio) (11.1.0)\n",
            "Requirement already satisfied: pydantic>=2.0 in /usr/local/lib/python3.11/dist-packages (from gradio) (2.10.6)\n",
            "Requirement already satisfied: pydub in /usr/local/lib/python3.11/dist-packages (from gradio) (0.25.1)\n",
            "Collecting python-multipart>=0.0.18 (from gradio)\n",
            "  Downloading python_multipart-0.0.20-py3-none-any.whl.metadata (1.8 kB)\n",
            "Requirement already satisfied: pyyaml<7.0,>=5.0 in /usr/local/lib/python3.11/dist-packages (from gradio) (6.0.2)\n",
            "Collecting ruff>=0.9.3 (from gradio)\n",
            "  Downloading ruff-0.9.10-py3-none-manylinux_2_17_x86_64.manylinux2014_x86_64.whl.metadata (25 kB)\n",
            "Collecting safehttpx<0.2.0,>=0.1.6 (from gradio)\n",
            "  Downloading safehttpx-0.1.6-py3-none-any.whl.metadata (4.2 kB)\n",
            "Collecting semantic-version~=2.0 (from gradio)\n",
            "  Downloading semantic_version-2.10.0-py2.py3-none-any.whl.metadata (9.7 kB)\n",
            "Collecting starlette<1.0,>=0.40.0 (from gradio)\n",
            "  Downloading starlette-0.46.1-py3-none-any.whl.metadata (6.2 kB)\n",
            "Collecting tomlkit<0.14.0,>=0.12.0 (from gradio)\n",
            "  Downloading tomlkit-0.13.2-py3-none-any.whl.metadata (2.7 kB)\n",
            "Requirement already satisfied: typer<1.0,>=0.12 in /usr/local/lib/python3.11/dist-packages (from gradio) (0.15.2)\n",
            "Requirement already satisfied: typing-extensions~=4.0 in /usr/local/lib/python3.11/dist-packages (from gradio) (4.12.2)\n",
            "Collecting uvicorn>=0.14.0 (from gradio)\n",
            "  Downloading uvicorn-0.34.0-py3-none-any.whl.metadata (6.5 kB)\n",
            "Requirement already satisfied: fsspec in /usr/local/lib/python3.11/dist-packages (from gradio-client==1.7.2->gradio) (2024.10.0)\n",
            "Requirement already satisfied: websockets<16.0,>=10.0 in /usr/local/lib/python3.11/dist-packages (from gradio-client==1.7.2->gradio) (14.2)\n",
            "Requirement already satisfied: click>=8.1.8 in /usr/local/lib/python3.11/dist-packages (from jiwer) (8.1.8)\n",
            "Requirement already satisfied: rapidfuzz>=3.9.7 in /usr/local/lib/python3.11/dist-packages (from jiwer) (3.12.2)\n",
            "Requirement already satisfied: joblib in /usr/local/lib/python3.11/dist-packages (from phonemizer) (1.4.2)\n",
            "Requirement already satisfied: segments in /usr/local/lib/python3.11/dist-packages (from phonemizer) (2.3.0)\n",
            "Requirement already satisfied: attrs>=18.1 in /usr/local/lib/python3.11/dist-packages (from phonemizer) (25.1.0)\n",
            "Requirement already satisfied: dlinfo in /usr/local/lib/python3.11/dist-packages (from phonemizer) (2.0.0)\n",
            "Requirement already satisfied: contourpy>=1.0.1 in /usr/local/lib/python3.11/dist-packages (from matplotlib) (1.3.1)\n",
            "Requirement already satisfied: cycler>=0.10 in /usr/local/lib/python3.11/dist-packages (from matplotlib) (0.12.1)\n",
            "Requirement already satisfied: fonttools>=4.22.0 in /usr/local/lib/python3.11/dist-packages (from matplotlib) (4.56.0)\n",
            "Requirement already satisfied: kiwisolver>=1.3.1 in /usr/local/lib/python3.11/dist-packages (from matplotlib) (1.4.8)\n",
            "Requirement already satisfied: pyparsing>=2.3.1 in /usr/local/lib/python3.11/dist-packages (from matplotlib) (3.2.1)\n",
            "Requirement already satisfied: python-dateutil>=2.7 in /usr/local/lib/python3.11/dist-packages (from matplotlib) (2.8.2)\n",
            "Requirement already satisfied: idna>=2.8 in /usr/local/lib/python3.11/dist-packages (from anyio<5.0,>=3.0->gradio) (3.10)\n",
            "Requirement already satisfied: sniffio>=1.1 in /usr/local/lib/python3.11/dist-packages (from anyio<5.0,>=3.0->gradio) (1.3.1)\n",
            "Requirement already satisfied: certifi in /usr/local/lib/python3.11/dist-packages (from httpx>=0.24.1->gradio) (2025.1.31)\n",
            "Requirement already satisfied: httpcore==1.* in /usr/local/lib/python3.11/dist-packages (from httpx>=0.24.1->gradio) (1.0.7)\n",
            "Requirement already satisfied: h11<0.15,>=0.13 in /usr/local/lib/python3.11/dist-packages (from httpcore==1.*->httpx>=0.24.1->gradio) (0.14.0)\n",
            "Requirement already satisfied: filelock in /usr/local/lib/python3.11/dist-packages (from huggingface-hub>=0.28.1->gradio) (3.17.0)\n",
            "Requirement already satisfied: requests in /usr/local/lib/python3.11/dist-packages (from huggingface-hub>=0.28.1->gradio) (2.32.3)\n",
            "Requirement already satisfied: tqdm>=4.42.1 in /usr/local/lib/python3.11/dist-packages (from huggingface-hub>=0.28.1->gradio) (4.67.1)\n",
            "Requirement already satisfied: pytz>=2020.1 in /usr/local/lib/python3.11/dist-packages (from pandas<3.0,>=1.0->gradio) (2025.1)\n",
            "Requirement already satisfied: tzdata>=2022.7 in /usr/local/lib/python3.11/dist-packages (from pandas<3.0,>=1.0->gradio) (2025.1)\n",
            "Requirement already satisfied: annotated-types>=0.6.0 in /usr/local/lib/python3.11/dist-packages (from pydantic>=2.0->gradio) (0.7.0)\n",
            "Requirement already satisfied: pydantic-core==2.27.2 in /usr/local/lib/python3.11/dist-packages (from pydantic>=2.0->gradio) (2.27.2)\n",
            "Requirement already satisfied: six>=1.5 in /usr/local/lib/python3.11/dist-packages (from python-dateutil>=2.7->matplotlib) (1.17.0)\n",
            "Requirement already satisfied: shellingham>=1.3.0 in /usr/local/lib/python3.11/dist-packages (from typer<1.0,>=0.12->gradio) (1.5.4)\n",
            "Requirement already satisfied: rich>=10.11.0 in /usr/local/lib/python3.11/dist-packages (from typer<1.0,>=0.12->gradio) (13.9.4)\n",
            "Requirement already satisfied: regex in /usr/local/lib/python3.11/dist-packages (from segments->phonemizer) (2024.11.6)\n",
            "Requirement already satisfied: csvw>=1.5.6 in /usr/local/lib/python3.11/dist-packages (from segments->phonemizer) (3.5.1)\n",
            "Requirement already satisfied: isodate in /usr/local/lib/python3.11/dist-packages (from csvw>=1.5.6->segments->phonemizer) (0.7.2)\n",
            "Requirement already satisfied: rfc3986<2 in /usr/local/lib/python3.11/dist-packages (from csvw>=1.5.6->segments->phonemizer) (1.5.0)\n",
            "Requirement already satisfied: uritemplate>=3.0.0 in /usr/local/lib/python3.11/dist-packages (from csvw>=1.5.6->segments->phonemizer) (4.1.1)\n",
            "Requirement already satisfied: babel in /usr/local/lib/python3.11/dist-packages (from csvw>=1.5.6->segments->phonemizer) (2.17.0)\n",
            "Requirement already satisfied: language-tags in /usr/local/lib/python3.11/dist-packages (from csvw>=1.5.6->segments->phonemizer) (1.2.0)\n",
            "Requirement already satisfied: rdflib in /usr/local/lib/python3.11/dist-packages (from csvw>=1.5.6->segments->phonemizer) (7.1.3)\n",
            "Requirement already satisfied: colorama in /usr/local/lib/python3.11/dist-packages (from csvw>=1.5.6->segments->phonemizer) (0.4.6)\n",
            "Requirement already satisfied: jsonschema in /usr/local/lib/python3.11/dist-packages (from csvw>=1.5.6->segments->phonemizer) (4.23.0)\n",
            "Requirement already satisfied: markdown-it-py>=2.2.0 in /usr/local/lib/python3.11/dist-packages (from rich>=10.11.0->typer<1.0,>=0.12->gradio) (3.0.0)\n",
            "Requirement already satisfied: pygments<3.0.0,>=2.13.0 in /usr/local/lib/python3.11/dist-packages (from rich>=10.11.0->typer<1.0,>=0.12->gradio) (2.18.0)\n",
            "Requirement already satisfied: charset-normalizer<4,>=2 in /usr/local/lib/python3.11/dist-packages (from requests->huggingface-hub>=0.28.1->gradio) (3.4.1)\n",
            "Requirement already satisfied: urllib3<3,>=1.21.1 in /usr/local/lib/python3.11/dist-packages (from requests->huggingface-hub>=0.28.1->gradio) (2.3.0)\n",
            "Requirement already satisfied: mdurl~=0.1 in /usr/local/lib/python3.11/dist-packages (from markdown-it-py>=2.2.0->rich>=10.11.0->typer<1.0,>=0.12->gradio) (0.1.2)\n",
            "Requirement already satisfied: jsonschema-specifications>=2023.03.6 in /usr/local/lib/python3.11/dist-packages (from jsonschema->csvw>=1.5.6->segments->phonemizer) (2024.10.1)\n",
            "Requirement already satisfied: referencing>=0.28.4 in /usr/local/lib/python3.11/dist-packages (from jsonschema->csvw>=1.5.6->segments->phonemizer) (0.36.2)\n",
            "Requirement already satisfied: rpds-py>=0.7.1 in /usr/local/lib/python3.11/dist-packages (from jsonschema->csvw>=1.5.6->segments->phonemizer) (0.23.1)\n",
            "Downloading gradio-5.20.1-py3-none-any.whl (62.3 MB)\n",
            "\u001b[2K   \u001b[90m━━━━━━━━━━━━━━━━━━━━━━━━━━━━━━━━━━━━━━━━\u001b[0m \u001b[32m62.3/62.3 MB\u001b[0m \u001b[31m8.6 MB/s\u001b[0m eta \u001b[36m0:00:00\u001b[0m\n",
            "\u001b[?25hDownloading gradio_client-1.7.2-py3-none-any.whl (322 kB)\n",
            "\u001b[2K   \u001b[90m━━━━━━━━━━━━━━━━━━━━━━━━━━━━━━━━━━━━━━━━\u001b[0m \u001b[32m322.1/322.1 kB\u001b[0m \u001b[31m19.1 MB/s\u001b[0m eta \u001b[36m0:00:00\u001b[0m\n",
            "\u001b[?25hDownloading aiofiles-23.2.1-py3-none-any.whl (15 kB)\n",
            "Downloading fastapi-0.115.11-py3-none-any.whl (94 kB)\n",
            "\u001b[2K   \u001b[90m━━━━━━━━━━━━━━━━━━━━━━━━━━━━━━━━━━━━━━━━\u001b[0m \u001b[32m94.9/94.9 kB\u001b[0m \u001b[31m6.9 MB/s\u001b[0m eta \u001b[36m0:00:00\u001b[0m\n",
            "\u001b[?25hDownloading groovy-0.1.2-py3-none-any.whl (14 kB)\n",
            "Downloading MarkupSafe-2.1.5-cp311-cp311-manylinux_2_17_x86_64.manylinux2014_x86_64.whl (28 kB)\n",
            "Downloading python_multipart-0.0.20-py3-none-any.whl (24 kB)\n",
            "Downloading ruff-0.9.10-py3-none-manylinux_2_17_x86_64.manylinux2014_x86_64.whl (11.3 MB)\n",
            "\u001b[2K   \u001b[90m━━━━━━━━━━━━━━━━━━━━━━━━━━━━━━━━━━━━━━━━\u001b[0m \u001b[32m11.3/11.3 MB\u001b[0m \u001b[31m95.6 MB/s\u001b[0m eta \u001b[36m0:00:00\u001b[0m\n",
            "\u001b[?25hDownloading safehttpx-0.1.6-py3-none-any.whl (8.7 kB)\n",
            "Downloading semantic_version-2.10.0-py2.py3-none-any.whl (15 kB)\n",
            "Downloading starlette-0.46.1-py3-none-any.whl (71 kB)\n",
            "\u001b[2K   \u001b[90m━━━━━━━━━━━━━━━━━━━━━━━━━━━━━━━━━━━━━━━━\u001b[0m \u001b[32m72.0/72.0 kB\u001b[0m \u001b[31m5.3 MB/s\u001b[0m eta \u001b[36m0:00:00\u001b[0m\n",
            "\u001b[?25hDownloading tomlkit-0.13.2-py3-none-any.whl (37 kB)\n",
            "Downloading uvicorn-0.34.0-py3-none-any.whl (62 kB)\n",
            "\u001b[2K   \u001b[90m━━━━━━━━━━━━━━━━━━━━━━━━━━━━━━━━━━━━━━━━\u001b[0m \u001b[32m62.3/62.3 kB\u001b[0m \u001b[31m4.5 MB/s\u001b[0m eta \u001b[36m0:00:00\u001b[0m\n",
            "\u001b[?25hDownloading ffmpy-0.5.0-py3-none-any.whl (6.0 kB)\n",
            "Installing collected packages: uvicorn, tomlkit, semantic-version, ruff, python-multipart, markupsafe, groovy, ffmpy, aiofiles, starlette, safehttpx, gradio-client, fastapi, gradio\n",
            "  Attempting uninstall: markupsafe\n",
            "    Found existing installation: MarkupSafe 3.0.2\n",
            "    Uninstalling MarkupSafe-3.0.2:\n",
            "      Successfully uninstalled MarkupSafe-3.0.2\n",
            "\u001b[31mERROR: pip's dependency resolver does not currently take into account all the packages that are installed. This behaviour is the source of the following dependency conflicts.\n",
            "torch 2.5.1+cu124 requires nvidia-cublas-cu12==12.4.5.8; platform_system == \"Linux\" and platform_machine == \"x86_64\", but you have nvidia-cublas-cu12 12.5.3.2 which is incompatible.\n",
            "torch 2.5.1+cu124 requires nvidia-cuda-cupti-cu12==12.4.127; platform_system == \"Linux\" and platform_machine == \"x86_64\", but you have nvidia-cuda-cupti-cu12 12.5.82 which is incompatible.\n",
            "torch 2.5.1+cu124 requires nvidia-cuda-nvrtc-cu12==12.4.127; platform_system == \"Linux\" and platform_machine == \"x86_64\", but you have nvidia-cuda-nvrtc-cu12 12.5.82 which is incompatible.\n",
            "torch 2.5.1+cu124 requires nvidia-cuda-runtime-cu12==12.4.127; platform_system == \"Linux\" and platform_machine == \"x86_64\", but you have nvidia-cuda-runtime-cu12 12.5.82 which is incompatible.\n",
            "torch 2.5.1+cu124 requires nvidia-cudnn-cu12==9.1.0.70; platform_system == \"Linux\" and platform_machine == \"x86_64\", but you have nvidia-cudnn-cu12 9.3.0.75 which is incompatible.\n",
            "torch 2.5.1+cu124 requires nvidia-cufft-cu12==11.2.1.3; platform_system == \"Linux\" and platform_machine == \"x86_64\", but you have nvidia-cufft-cu12 11.2.3.61 which is incompatible.\n",
            "torch 2.5.1+cu124 requires nvidia-curand-cu12==10.3.5.147; platform_system == \"Linux\" and platform_machine == \"x86_64\", but you have nvidia-curand-cu12 10.3.6.82 which is incompatible.\n",
            "torch 2.5.1+cu124 requires nvidia-cusolver-cu12==11.6.1.9; platform_system == \"Linux\" and platform_machine == \"x86_64\", but you have nvidia-cusolver-cu12 11.6.3.83 which is incompatible.\n",
            "torch 2.5.1+cu124 requires nvidia-cusparse-cu12==12.3.1.170; platform_system == \"Linux\" and platform_machine == \"x86_64\", but you have nvidia-cusparse-cu12 12.5.1.3 which is incompatible.\n",
            "torch 2.5.1+cu124 requires nvidia-nvjitlink-cu12==12.4.127; platform_system == \"Linux\" and platform_machine == \"x86_64\", but you have nvidia-nvjitlink-cu12 12.5.82 which is incompatible.\u001b[0m\u001b[31m\n",
            "\u001b[0mSuccessfully installed aiofiles-23.2.1 fastapi-0.115.11 ffmpy-0.5.0 gradio-5.20.1 gradio-client-1.7.2 groovy-0.1.2 markupsafe-2.1.5 python-multipart-0.0.20 ruff-0.9.10 safehttpx-0.1.6 semantic-version-2.10.0 starlette-0.46.1 tomlkit-0.13.2 uvicorn-0.34.0\n",
            "Reading package lists... Done\n",
            "Building dependency tree... Done\n",
            "Reading state information... Done\n",
            "espeak-ng is already the newest version (1.50+dfsg-10ubuntu0.1).\n",
            "0 upgraded, 0 newly installed, 0 to remove and 29 not upgraded.\n"
          ]
        }
      ]
    },
    {
      "cell_type": "code",
      "source": [
        "import gradio as gr\n",
        "import epitran\n",
        "import subprocess\n",
        "import numpy as np\n",
        "from gtts import gTTS\n",
        "from jiwer import wer, cer\n",
        "import os\n",
        "\n",
        "# Function to convert text to IPA using Epitran\n",
        "def convert_to_ipa(text, lang_code):\n",
        "    try:\n",
        "        epi = epitran.Epitran(lang_code)\n",
        "        ipa_transcription = epi.transliterate(text)\n",
        "        if not ipa_transcription:\n",
        "            return \"Error: IPA transcription failed!\"\n",
        "        return ipa_transcription\n",
        "    except Exception as e:\n",
        "        return f\"Error: {str(e)}\"\n",
        "\n",
        "# Function to convert text to IPA using Espeak-NG\n",
        "def transcribe_with_espeak(text, lang_code=\"en-us\"):\n",
        "    try:\n",
        "        result = subprocess.run([\"espeak-ng\", \"-v\", lang_code, \"--ipa\", text], capture_output=True, text=True)\n",
        "        ipa_transcription = result.stdout.strip()\n",
        "        return ipa_transcription\n",
        "    except Exception as e:\n",
        "        return f\"Error: {str(e)}\"\n",
        "\n",
        "# Function to generate pronunciation audio\n",
        "def generate_audio(text, lang_code):\n",
        "    try:\n",
        "        tts = gTTS(text, lang=lang_code.split(\"-\")[0])  # Extract base language\n",
        "        audio_path = \"output.mp3\"\n",
        "        tts.save(audio_path)\n",
        "        return audio_path\n",
        "    except Exception as e:\n",
        "        return None\n",
        "\n",
        "# Function to compute WER & CER\n",
        "def calculate_error_rates(predicted_ipa, reference_ipa):\n",
        "    if not reference_ipa:\n",
        "        return None, None\n",
        "    wer_score = wer(reference_ipa, predicted_ipa)\n",
        "    cer_score = cer(reference_ipa, predicted_ipa)\n",
        "    return round(wer_score, 4), round(cer_score, 4)\n",
        "\n",
        "# Gradio Interface\n",
        "def transcribe_and_play(text, lang_code, reference_ipa):\n",
        "    ipa_transcription = transcribe_with_espeak(text, lang_code)\n",
        "    if \"Error\" in ipa_transcription:\n",
        "        return ipa_transcription, None, None, None\n",
        "\n",
        "    wer_score, cer_score = calculate_error_rates(ipa_transcription, reference_ipa)\n",
        "    audio_path = generate_audio(text, lang_code)\n",
        "\n",
        "    return ipa_transcription, wer_score, cer_score, audio_path\n",
        "\n",
        "# Gradio UI\n",
        "with gr.Blocks() as app:\n",
        "    gr.Markdown(\"## 🎤 IPA Phonetic Transcription & Pronunciation\")\n",
        "    with gr.Row():\n",
        "        with gr.Column():\n",
        "            text_input = gr.Textbox(label=\"Enter Text\")\n",
        "            lang_code_input = gr.Textbox(label=\"Language Code (e.g., en-us, fr, es)\", value=\"en-us\")\n",
        "            reference_ipa_input = gr.Textbox(label=\"Reference IPA (optional, for accuracy evaluation)\")\n",
        "            submit_btn = gr.Button(\"Submit\")\n",
        "\n",
        "        with gr.Column():\n",
        "            ipa_output = gr.Textbox(label=\"IPA Transcription\", interactive=False)\n",
        "            wer_output = gr.Number(label=\"Word Error Rate (WER)\", precision=4)\n",
        "            cer_output = gr.Number(label=\"Character Error Rate (CER)\", precision=4)\n",
        "            audio_output = gr.Audio(label=\"Pronunciation\")\n",
        "\n",
        "    submit_btn.click(\n",
        "        transcribe_and_play,\n",
        "        inputs=[text_input, lang_code_input, reference_ipa_input],\n",
        "        outputs=[ipa_output, wer_output, cer_output, audio_output]\n",
        "    )\n",
        "\n",
        "app.launch(share=True)"
      ],
      "metadata": {
        "colab": {
          "base_uri": "https://localhost:8080/",
          "height": 591
        },
        "id": "YdreSNV2U-l1",
        "outputId": "9e9bcae7-70eb-4c2c-96da-99acb72cf4c4"
      },
      "execution_count": 16,
      "outputs": [
        {
          "output_type": "stream",
          "name": "stdout",
          "text": [
            "Colab notebook detected. To show errors in colab notebook, set debug=True in launch()\n",
            "* Running on public URL: https://869f6f79c987e5d59d.gradio.live\n",
            "\n",
            "This share link expires in 72 hours. For free permanent hosting and GPU upgrades, run `gradio deploy` from the terminal in the working directory to deploy to Hugging Face Spaces (https://huggingface.co/spaces)\n"
          ]
        },
        {
          "output_type": "display_data",
          "data": {
            "text/plain": [
              "<IPython.core.display.HTML object>"
            ],
            "text/html": [
              "<div><iframe src=\"https://869f6f79c987e5d59d.gradio.live\" width=\"100%\" height=\"500\" allow=\"autoplay; camera; microphone; clipboard-read; clipboard-write;\" frameborder=\"0\" allowfullscreen></iframe></div>"
            ]
          },
          "metadata": {}
        },
        {
          "output_type": "execute_result",
          "data": {
            "text/plain": []
          },
          "metadata": {},
          "execution_count": 16
        }
      ]
    }
  ]
}